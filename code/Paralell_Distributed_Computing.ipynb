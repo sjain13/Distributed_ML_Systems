{
  "cells": [
    {
      "cell_type": "markdown",
      "metadata": {
        "id": "uZ4FQpUx1JYs"
      },
      "source": [
        "The purpose of the code is to calculate the squares and cubes of a list of numbers in parallel, i.e., using two separate processes (p1 and p2). This leverages multiple CPU cores to perform computations simultaneously."
      ]
    },
    {
      "cell_type": "code",
      "execution_count": 1,
      "metadata": {
        "colab": {
          "base_uri": "https://localhost:8080/"
        },
        "id": "t6r_ppeOrQNt",
        "outputId": "f0288288-dc39-473e-f580-38faaa78da4d"
      },
      "outputs": [
        {
          "name": "stdout",
          "output_type": "stream",
          "text": [
            "Done!\n"
          ]
        }
      ],
      "source": [
        "from multiprocessing import Process\n",
        "\n",
        "# Function to calculate squares\n",
        "def calculate_squares(numbers):\n",
        "    for n in numbers:\n",
        "        print(f\"Square: {n*n} \\n\")\n",
        "\n",
        "# Function to calculate cubes\n",
        "def calculate_cubes(numbers):\n",
        "    for n in numbers:\n",
        "        print(f\"Cube: {n*n*n} \\n\")\n",
        "\n",
        "if __name__ == \"__main__\":\n",
        "    numbers = [1, 2, 3, 4, 5, 6, 7, 8, 9, 10]\n",
        "    # Creating two processes\n",
        "    p1 = Process(target=calculate_squares, args=(numbers,))\n",
        "    #A Process object represents a separate process.\n",
        "    #It takes two main arguments:\n",
        "    #target: The function to be executed.\n",
        "    #args: A tuple containing arguments for the target function.\n",
        "\n",
        "    p2 = Process(target=calculate_cubes, args=(numbers,))\n",
        "\n",
        "    p1.start() # start(): Starts the execution of a process in parallel.\n",
        "    p2.start()\n",
        "\n",
        "    p1.join() # Ensures the main process waits for the child processes (p1 and p2) to complete before proceeding.\n",
        "    p2.join()\n",
        "\n",
        "    print(\"Done!\")\n"
      ]
    },
    {
      "cell_type": "code",
      "execution_count": 3,
      "metadata": {
        "colab": {
          "base_uri": "https://localhost:8080/"
        },
        "id": "-yWsmgqM2JE4",
        "outputId": "7a13a517-8c4b-4e0a-ff40-a9c170a1268d"
      },
      "outputs": [
        {
          "name": "stdout",
          "output_type": "stream",
          "text": [
            "Resultant Matrix:\n",
            "[[ 30  24  18]\n",
            " [ 84  69  54]\n",
            " [138 114  90]]\n"
          ]
        }
      ],
      "source": [
        "from multiprocessing import Process, Array\n",
        "import numpy as np\n",
        "\n",
        "# Function to multiply a row of matrix A with matrix B\n",
        "def multiply_row(result, matrix_a, matrix_b, row_index):\n",
        "    for col in range(len(matrix_b[0])):\n",
        "        result[row_index * len(matrix_b[0]) + col] = sum(\n",
        "            matrix_a[row_index][k] * matrix_b[k][col] for k in range(len(matrix_b))\n",
        "        )\n",
        "\n",
        "if __name__ == \"__main__\":\n",
        "    # Matrices to multiply\n",
        "    matrix_a = [[1, 2, 3], [4, 5, 6], [7, 8, 9]]\n",
        "    matrix_b = [[9, 8, 7], [6, 5, 4], [3, 2, 1]]\n",
        "\n",
        "    # Shared memory for storing the result\n",
        "    result = Array('i', len(matrix_a) * len(matrix_b[0]))\n",
        "    #Allows processes to store and share computation results.\n",
        "    #Array('i', size) creates a shared integer array with size elements.\n",
        "\n",
        "\n",
        "    # List to store processes\n",
        "    processes = []\n",
        "\n",
        "    # Create a process for each row of matrix A\n",
        "    for row_index in range(len(matrix_a)):\n",
        "        p = Process(target=multiply_row, args=(result, matrix_a, matrix_b, row_index))\n",
        "        # Process: Represents a new independent process that will execute the multiply_row function.\n",
        "        #result: The shared memory array to store the computed results.\n",
        "        #matrix_a: The full matrix A (to access the current row).\n",
        "        #matrix_b: The full matrix B (to perform the dot product with the row from matrix_a).\n",
        "        #row_index: Identifies which row of matrix_a the process should work on.\n",
        "\n",
        "        processes.append(p) #This list is used later to manage (e.g., start, join) all processes.\n",
        "        p.start()\n",
        "\n",
        "    # Wait for all processes to complete\n",
        "    for p in processes:\n",
        "        p.join()\n",
        "\n",
        "    # Reshape and print the result\n",
        "    result_matrix = np.array(result).reshape(len(matrix_a), len(matrix_b[0]))\n",
        "    print(\"Resultant Matrix:\")\n",
        "    print(result_matrix)\n"
      ]
    },
    {
      "cell_type": "code",
      "execution_count": 4,
      "metadata": {
        "colab": {
          "base_uri": "https://localhost:8080/"
        },
        "id": "SaTGmp5s4XSm",
        "outputId": "3ba98906-b518-42d6-93bf-ed9e524fde3f"
      },
      "outputs": [
        {
          "name": "stdout",
          "output_type": "stream",
          "text": [
            "Matrix Multiplication Completed!\n",
            "Result Matrix: [[10183 11072 10525 ... 10351 11183 10628]\n",
            " [ 9764 10082 10041 ...  9534 10462  9990]\n",
            " [10434 10761 10642 ...  9837 10864 10169]\n",
            " ...\n",
            " [ 9700 10660 10507 ...  9749 10894 10592]\n",
            " [ 9857 10192 10242 ...  9548 10428 10551]\n",
            " [ 9615  9871  9583 ...  9347  9834  9805]]\n"
          ]
        }
      ],
      "source": [
        "from multiprocessing import Process, Array\n",
        "import numpy as np\n",
        "\n",
        "# Function to compute a single row of the resulting matrix\n",
        "def multiply_row(shared_result, row_index, matrix_a, matrix_b, num_cols_b):\n",
        "    \"\"\"\n",
        "    Multiply a single row of matrix A with all columns of matrix B.\n",
        "    Store the result in the shared memory (shared_result).\n",
        "    \"\"\"\n",
        "    for col in range(num_cols_b):\n",
        "        # Dot product of row `row_index` of A and column `col` of B\n",
        "        shared_result[row_index * num_cols_b + col] = sum(\n",
        "            matrix_a[row_index][k] * matrix_b[k][col] for k in range(len(matrix_b))\n",
        "        )\n",
        "\n",
        "if __name__ == \"__main__\":\n",
        "    # Generate large matrices A and B\n",
        "    # Matrix A: 500x500, Matrix B: 500x500\n",
        "    matrix_a = np.random.randint(0, 10, (500, 500))\n",
        "    matrix_b = np.random.randint(0, 10, (500, 500))\n",
        "\n",
        "    # Shared memory to store the resulting matrix\n",
        "    result = Array('i', 500 * 500)  # 500x500 matrix, stored as a 1D array\n",
        "    num_rows_a, num_cols_b = 500, 500  # Dimensions of the result matrix\n",
        "\n",
        "    # List to hold the processes\n",
        "    processes = []\n",
        "\n",
        "    # Create and start a process for each row in matrix A\n",
        "    for row_index in range(num_rows_a):\n",
        "        p = Process(target=multiply_row, args=(result, row_index, matrix_a, matrix_b, num_cols_b))\n",
        "        processes.append(p)\n",
        "        p.start()\n",
        "\n",
        "    # Wait for all processes to finish\n",
        "    for p in processes:\n",
        "        p.join()\n",
        "\n",
        "    # Convert the shared memory back to a 2D NumPy array\n",
        "    result_matrix = np.array(result[:]).reshape(num_rows_a, num_cols_b)\n",
        "\n",
        "    # Print the result (optional, as the matrix is large)\n",
        "    print(\"Matrix Multiplication Completed!\")\n",
        "    print(\"Result Matrix:\", result_matrix)\n"
      ]
    },
    {
      "cell_type": "code",
      "execution_count": 5,
      "metadata": {
        "colab": {
          "base_uri": "https://localhost:8080/"
        },
        "id": "xWMXr9uQ6Yx2",
        "outputId": "0d9d1c23-9d31-4cc1-8afc-30793bae9302"
      },
      "outputs": [
        {
          "name": "stdout",
          "output_type": "stream",
          "text": [
            "Starting Optimized Parallel Matrix Multiplication...\n",
            "Parallel Matrix Multiplication Completed!\n",
            "Parallel Execution Time: 94.8711 seconds\n",
            "Starting Sequential Matrix Multiplication...\n",
            "Sequential Matrix Multiplication Completed!\n",
            "Sequential Execution Time: 95.7930 seconds\n",
            "Comparison of Results:\n",
            "Are results equal? True\n"
          ]
        }
      ],
      "source": [
        "from multiprocessing import Pool\n",
        "import numpy as np\n",
        "import time\n",
        "\n",
        "# Function to compute a single row of the resulting matrix\n",
        "def multiply_row(args):\n",
        "    row_index, matrix_a, matrix_b = args\n",
        "    num_cols_b = len(matrix_b[0])\n",
        "    result_row = [\n",
        "        sum(matrix_a[row_index][k] * matrix_b[k][col] for k in range(len(matrix_b)))\n",
        "        for col in range(num_cols_b)\n",
        "    ]\n",
        "    return row_index, result_row\n",
        "\n",
        "if __name__ == \"__main__\":\n",
        "    # Generate large matrices A and B\n",
        "    matrix_a = np.random.randint(0, 10, (500, 500))\n",
        "    matrix_b = np.random.randint(0, 10, (500, 500))\n",
        "\n",
        "    # Parallel Processing using Pool\n",
        "    print(\"Starting Optimized Parallel Matrix Multiplication...\")\n",
        "    start_parallel = time.time()\n",
        "\n",
        "    # Prepare arguments for each row\n",
        "    num_rows_a = len(matrix_a)\n",
        "    args = [(row_index, matrix_a, matrix_b) for row_index in range(num_rows_a)]\n",
        "\n",
        "    # Use a pool of workers equal to the number of CPU cores\n",
        "    with Pool() as pool:\n",
        "        results = pool.map(multiply_row, args)\n",
        "\n",
        "    # Combine results into the final matrix\n",
        "    result_matrix_parallel = np.zeros((500, 500), dtype=int)\n",
        "    for row_index, result_row in results:\n",
        "        result_matrix_parallel[row_index] = result_row\n",
        "\n",
        "    end_parallel = time.time()\n",
        "    print(\"Parallel Matrix Multiplication Completed!\")\n",
        "    print(f\"Parallel Execution Time: {end_parallel - start_parallel:.4f} seconds\")\n",
        "\n",
        "    # Sequential Processing for Comparison\n",
        "    print(\"Starting Sequential Matrix Multiplication...\")\n",
        "    start_sequential = time.time()\n",
        "\n",
        "    result_matrix_sequential = np.zeros((500, 500), dtype=int)\n",
        "    for i in range(len(matrix_a)):\n",
        "        for j in range(len(matrix_b[0])):\n",
        "            result_matrix_sequential[i][j] = sum(matrix_a[i][k] * matrix_b[k][j] for k in range(len(matrix_b)))\n",
        "\n",
        "    end_sequential = time.time()\n",
        "    print(\"Sequential Matrix Multiplication Completed!\")\n",
        "    print(f\"Sequential Execution Time: {end_sequential - start_sequential:.4f} seconds\")\n",
        "\n",
        "    # Verify results\n",
        "    print(\"Comparison of Results:\")\n",
        "    print(f\"Are results equal? {np.array_equal(result_matrix_parallel, result_matrix_sequential)}\")\n"
      ]
    },
    {
      "cell_type": "markdown",
      "metadata": {
        "id": "zneSA8Xt9Xfh"
      },
      "source": [
        "Distributed Computing"
      ]
    },
    {
      "cell_type": "code",
      "execution_count": null,
      "metadata": {
        "id": "yICM9Tc59Zyn"
      },
      "outputs": [],
      "source": []
    }
  ],
  "metadata": {
    "colab": {
      "provenance": []
    },
    "kernelspec": {
      "display_name": "Python 3",
      "name": "python3"
    },
    "language_info": {
      "codemirror_mode": {
        "name": "ipython",
        "version": 3
      },
      "file_extension": ".py",
      "mimetype": "text/x-python",
      "name": "python",
      "nbconvert_exporter": "python",
      "pygments_lexer": "ipython3",
      "version": "3.12.2"
    }
  },
  "nbformat": 4,
  "nbformat_minor": 0
}
